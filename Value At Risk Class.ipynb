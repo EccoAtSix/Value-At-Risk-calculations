{
 "cells": [
  {
   "cell_type": "code",
   "execution_count": 2,
   "id": "fbe375f9",
   "metadata": {},
   "outputs": [],
   "source": [
    "import pandas as pd\n",
    "import numpy as np\n",
    "import matplotlib.pyplot as plt"
   ]
  },
  {
   "cell_type": "code",
   "execution_count": 22,
   "id": "973ff4d5",
   "metadata": {},
   "outputs": [],
   "source": [
    "class var:\n",
    "    def __init__(self,data,weights):\n",
    "        self.data=data\n",
    "        self.weights=weights \n",
    "    \n",
    "    def port_returns(self):\n",
    "        import pandas as pd\n",
    "        import numpy as np\n",
    "        returns=pd.DataFrame()\n",
    "        for f in self.data.columns:\n",
    "            returns[f]=self.data[f].pct_change()\n",
    "        returns=returns.dropna()\n",
    "        total=[]\n",
    "        for b in range(len(returns)-1):\n",
    "            array_returns=np.transpose(np.array(returns.iloc[b,:]))\n",
    "            array_weights=np.array(self.weights)\n",
    "            total.append(np.dot(array_returns,array_weights))\n",
    "        self.total_return=total\n",
    "        return np.array(total)\n",
    "    \n",
    "    def parametric(self,conf_level): #Parametric VaR\n",
    "        risk=np.std(self.total_return)\n",
    "        meann=np.mean(self.total_return)\n",
    "        import scipy.stats as stats \n",
    "        z=stats.norm.ppf(1-conf_level,0,1)\n",
    "        var=(z*risk)+meann\n",
    "        self.risk=risk\n",
    "        self.meann=meann\n",
    "        return var\n",
    "\n",
    "    def historic(self,conf_level): #Historical VaR\n",
    "        conteo=len(self.total_return)\n",
    "        indice=round((1-conf_level)*conteo)\n",
    "        port_ordenado=np.sort(self.total_return,None)\n",
    "        var_historico=port_ordenado[indice-1]\n",
    "        return var_historico\n",
    "    \n",
    "    def sim_historical(self,conf_level,n_simulations): #Historical simulation VaR\n",
    "        simulaciones=np.random.randint(low=1,high=len(self.total_return),size=(n_simulations,1))\n",
    "        indices_sim=[]\n",
    "        retornos_sim_historical=np.array(self.total_return)\n",
    "        for y in range(len(simulaciones)-1):\n",
    "            valor=retornos_sim_historical[simulaciones[y]-1]\n",
    "            indices_sim.append(valor)\n",
    "        arreglo_indices=pd.DataFrame(np.reshape(np.array(indices_sim),newshape=(n_simulations-1,1)))\n",
    "        arreglo_indices.columns=[\"Historical Simulation VaR\"]\n",
    "        var_sim_historico=arreglo_indices.quantile(1-conf_level)\n",
    "        return var_sim_historico\n",
    "    \n",
    "    def monte_carlo(self,conf_level,n_simulations):#Monte Carlo VaR\n",
    "        import scipy.stats as stats\n",
    "        import random\n",
    "        aleatorio=[]\n",
    "        for j in range(n_simulations):\n",
    "            aleatorio.append(random.random())\n",
    "        z_mc=[]\n",
    "        for t in range(len(aleatorio)-1):\n",
    "            z_mc.append(stats.norm.ppf(aleatorio[t],0,1))\n",
    "        z_sim_mc=np.array(z_mc)\n",
    "        retornos_sim=pd.DataFrame((z_sim_mc*self.risk)+self.meann)\n",
    "        retornos_sim.columns=[\"Monte Carlo VaR\"]\n",
    "        var_mont_car=retornos_sim.quantile(1-conf_level)\n",
    "        return var_mont_car"
   ]
  },
  {
   "cell_type": "markdown",
   "id": "e96a73bf",
   "metadata": {},
   "source": [
    "Import equity data and weights"
   ]
  },
  {
   "cell_type": "code",
   "execution_count": 23,
   "id": "d7f69168",
   "metadata": {},
   "outputs": [],
   "source": [
    "data_2=pd.read_excel(\"Proyecto var.xlsx\",index_col=0)\n",
    "weights=pd.read_excel(\"Proyecto var.xlsx\",sheet_name=\"pesos\")"
   ]
  },
  {
   "cell_type": "markdown",
   "id": "fa070251",
   "metadata": {},
   "source": [
    "Creating object of the class"
   ]
  },
  {
   "cell_type": "code",
   "execution_count": 24,
   "id": "a1e8c007",
   "metadata": {},
   "outputs": [],
   "source": [
    "object_1=var(data=data_2,weights=weights)"
   ]
  },
  {
   "cell_type": "markdown",
   "id": "e1ec0489",
   "metadata": {},
   "source": [
    "Calculating the parametric Value At Risk"
   ]
  },
  {
   "cell_type": "code",
   "execution_count": 25,
   "id": "220866f0",
   "metadata": {},
   "outputs": [
    {
     "data": {
      "text/plain": [
       "-0.022327111549003655"
      ]
     },
     "execution_count": 25,
     "metadata": {},
     "output_type": "execute_result"
    }
   ],
   "source": [
    "portafolio=object_1.port_returns() # Portfolio returns\n",
    "object_1.parametric(conf_level=0.95) "
   ]
  },
  {
   "cell_type": "markdown",
   "id": "e94511b5",
   "metadata": {},
   "source": [
    "Calculating the historic Value At Risk"
   ]
  },
  {
   "cell_type": "code",
   "execution_count": 26,
   "id": "bd952358",
   "metadata": {},
   "outputs": [
    {
     "data": {
      "text/plain": [
       "-0.020497663846085652"
      ]
     },
     "execution_count": 26,
     "metadata": {},
     "output_type": "execute_result"
    }
   ],
   "source": [
    "object_1.historic(0.95)"
   ]
  },
  {
   "cell_type": "markdown",
   "id": "4d1b09c9",
   "metadata": {},
   "source": [
    "Calculating the Historical Simulation Value At Risk"
   ]
  },
  {
   "cell_type": "code",
   "execution_count": 28,
   "id": "545fdccd",
   "metadata": {},
   "outputs": [
    {
     "data": {
      "text/plain": [
       "Historical Simulation VaR   -0.029473\n",
       "Name: 0.050000000000000044, dtype: float64"
      ]
     },
     "execution_count": 28,
     "metadata": {},
     "output_type": "execute_result"
    }
   ],
   "source": [
    "object_1.sim_historical(0.95, 500)"
   ]
  },
  {
   "cell_type": "markdown",
   "id": "8f2d8a28",
   "metadata": {},
   "source": [
    "Calculating the Monte Carlo Value At Risk"
   ]
  },
  {
   "cell_type": "code",
   "execution_count": 29,
   "id": "91cc944b",
   "metadata": {},
   "outputs": [
    {
     "data": {
      "text/plain": [
       "Monte Carlo VaR   -0.024533\n",
       "Name: 0.050000000000000044, dtype: float64"
      ]
     },
     "execution_count": 29,
     "metadata": {},
     "output_type": "execute_result"
    }
   ],
   "source": [
    "object_1.monte_carlo(0.95, 500) "
   ]
  }
 ],
 "metadata": {
  "kernelspec": {
   "display_name": "Python 3 (ipykernel)",
   "language": "python",
   "name": "python3"
  },
  "language_info": {
   "codemirror_mode": {
    "name": "ipython",
    "version": 3
   },
   "file_extension": ".py",
   "mimetype": "text/x-python",
   "name": "python",
   "nbconvert_exporter": "python",
   "pygments_lexer": "ipython3",
   "version": "3.9.12"
  }
 },
 "nbformat": 4,
 "nbformat_minor": 5
}
