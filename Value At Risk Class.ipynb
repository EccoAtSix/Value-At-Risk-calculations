{
 "cells": [
  {
   "cell_type": "code",
   "execution_count": 2,
   "id": "867fb904",
   "metadata": {},
   "outputs": [],
   "source": [
    "import pandas as pd\n",
    "import numpy as np\n",
    "import matplotlib.pyplot as plt"
   ]
  },
  {
   "cell_type": "code",
   "execution_count": 22,
   "id": "e6b25733",
   "metadata": {},
   "outputs": [],
   "source": [
    "class var:\n",
    "    def __init__(self,data,weights):\n",
    "        self.data=data\n",
    "        self.weights=weights \n",
    "    \n",
    "    def port_returns(self):\n",
    "        import pandas as pd\n",
    "        import numpy as np\n",
    "        returns=pd.DataFrame()\n",
    "        for f in self.data.columns:\n",
    "            returns[f]=self.data[f].pct_change()\n",
    "        returns=returns.dropna()\n",
    "        total=[]\n",
    "        for b in range(len(returns)-1):\n",
    "            array_returns=np.transpose(np.array(returns.iloc[b,:]))\n",
    "            array_weights=np.array(self.weights)\n",
    "            total.append(np.dot(array_returns,array_weights))\n",
    "        self.total_return=total\n",
    "        return np.array(total)\n",
    "    \n",
    "    def parametric(self,conf_level): #Parametric VaR\n",
    "        risk=np.std(self.total_return)\n",
    "        meann=np.mean(self.total_return)\n",
    "        import scipy.stats as stats \n",
    "        z=stats.norm.ppf(1-conf_level,0,1)\n",
    "        var=(z*risk)+meann\n",
    "        self.risk=risk\n",
    "        self.meann=meann\n",
    "        return var\n",
    "\n",
    "    def historic(self,conf_level): #Historical VaR\n",
    "        conteo=len(self.total_return)\n",
    "        indice=round((1-conf_level)*conteo)\n",
    "        port_ordenado=np.sort(self.total_return,None)\n",
    "        var_historico=port_ordenado[indice-1]\n",
    "        return var_historico\n",
    "    \n",
    "    def sim_historical(self,conf_level,n_simulations): #Historical simulation VaR\n",
    "        simulaciones=np.random.randint(low=1,high=len(self.total_return),size=(n_simulations,1))\n",
    "        indices_sim=[]\n",
    "        retornos_sim_historical=np.array(self.total_return)\n",
    "        for y in range(len(simulaciones)-1):\n",
    "            valor=retornos_sim_historical[simulaciones[y]-1]\n",
    "            indices_sim.append(valor)\n",
    "        arreglo_indices=pd.DataFrame(np.reshape(np.array(indices_sim),newshape=(n_simulations-1,1)))\n",
    "        arreglo_indices.columns=[\"Historical Simulation VaR\"]\n",
    "        var_sim_historico=arreglo_indices.quantile(1-conf_level)\n",
    "        return var_sim_historico\n",
    "    \n",
    "    def monte_carlo(self,conf_level,n_simulations):#Monte Carlo VaR\n",
    "        import scipy.stats as stats\n",
    "        import random\n",
    "        aleatorio=[]\n",
    "        for j in range(n_simulations):\n",
    "            aleatorio.append(random.random())\n",
    "        z_mc=[]\n",
    "        for t in range(len(aleatorio)-1):\n",
    "            z_mc.append(stats.norm.ppf(aleatorio[t],0,1))\n",
    "        z_sim_mc=np.array(z_mc)\n",
    "        retornos_sim=pd.DataFrame((z_sim_mc*self.risk)+self.meann)\n",
    "        retornos_sim.columns=[\"Monte Carlo VaR\"]\n",
    "        var_mont_car=retornos_sim.quantile(1-conf_level)\n",
    "        return var_mont_car"
   ]
  },
  {
   "cell_type": "markdown",
   "id": "6da65d8d",
   "metadata": {},
   "source": [
    "Import equity data and weights"
   ]
  },
  {
   "cell_type": "code",
   "execution_count": 23,
   "id": "eb5601a4",
   "metadata": {},
   "outputs": [],
   "source": [
    "data_2=pd.read_excel(\"Proyecto var.xlsx\",index_col=0)\n",
    "weights=pd.read_excel(\"Proyecto var.xlsx\",sheet_name=\"pesos\")"
   ]
  },
  {
   "cell_type": "code",
   "execution_count": 30,
   "id": "f624f478",
   "metadata": {},
   "outputs": [
    {
     "data": {
      "text/html": [
       "<div>\n",
       "<style scoped>\n",
       "    .dataframe tbody tr th:only-of-type {\n",
       "        vertical-align: middle;\n",
       "    }\n",
       "\n",
       "    .dataframe tbody tr th {\n",
       "        vertical-align: top;\n",
       "    }\n",
       "\n",
       "    .dataframe thead th {\n",
       "        text-align: right;\n",
       "    }\n",
       "</style>\n",
       "<table border=\"1\" class=\"dataframe\">\n",
       "  <thead>\n",
       "    <tr style=\"text-align: right;\">\n",
       "      <th></th>\n",
       "      <th>COCA COLA</th>\n",
       "      <th>EXXON MOBIL</th>\n",
       "      <th>JOHNSON &amp; JOHNSON</th>\n",
       "      <th>JP MORGAN</th>\n",
       "      <th>APPLE</th>\n",
       "    </tr>\n",
       "    <tr>\n",
       "      <th>Fecha</th>\n",
       "      <th></th>\n",
       "      <th></th>\n",
       "      <th></th>\n",
       "      <th></th>\n",
       "      <th></th>\n",
       "    </tr>\n",
       "  </thead>\n",
       "  <tbody>\n",
       "    <tr>\n",
       "      <th>2018-01-02</th>\n",
       "      <td>39.689281</td>\n",
       "      <td>66.545746</td>\n",
       "      <td>124.394119</td>\n",
       "      <td>95.053246</td>\n",
       "      <td>41.075405</td>\n",
       "    </tr>\n",
       "    <tr>\n",
       "      <th>2018-01-03</th>\n",
       "      <td>39.602119</td>\n",
       "      <td>67.852707</td>\n",
       "      <td>125.582382</td>\n",
       "      <td>95.150124</td>\n",
       "      <td>41.068253</td>\n",
       "    </tr>\n",
       "    <tr>\n",
       "      <th>2018-01-04</th>\n",
       "      <td>40.159908</td>\n",
       "      <td>67.946625</td>\n",
       "      <td>125.573448</td>\n",
       "      <td>96.513199</td>\n",
       "      <td>41.259010</td>\n",
       "    </tr>\n",
       "    <tr>\n",
       "      <th>2018-01-05</th>\n",
       "      <td>40.151192</td>\n",
       "      <td>67.891838</td>\n",
       "      <td>126.609863</td>\n",
       "      <td>95.893608</td>\n",
       "      <td>41.728756</td>\n",
       "    </tr>\n",
       "    <tr>\n",
       "      <th>2018-01-08</th>\n",
       "      <td>40.090179</td>\n",
       "      <td>68.197075</td>\n",
       "      <td>126.770683</td>\n",
       "      <td>96.035217</td>\n",
       "      <td>41.573765</td>\n",
       "    </tr>\n",
       "  </tbody>\n",
       "</table>\n",
       "</div>"
      ],
      "text/plain": [
       "            COCA COLA  EXXON MOBIL  JOHNSON & JOHNSON  JP MORGAN      APPLE\n",
       "Fecha                                                                      \n",
       "2018-01-02  39.689281    66.545746         124.394119  95.053246  41.075405\n",
       "2018-01-03  39.602119    67.852707         125.582382  95.150124  41.068253\n",
       "2018-01-04  40.159908    67.946625         125.573448  96.513199  41.259010\n",
       "2018-01-05  40.151192    67.891838         126.609863  95.893608  41.728756\n",
       "2018-01-08  40.090179    68.197075         126.770683  96.035217  41.573765"
      ]
     },
     "execution_count": 30,
     "metadata": {},
     "output_type": "execute_result"
    }
   ],
   "source": [
    "data_2.head()"
   ]
  },
  {
   "cell_type": "code",
   "execution_count": 33,
   "id": "a4948fa4",
   "metadata": {},
   "outputs": [
    {
     "data": {
      "text/html": [
       "<div>\n",
       "<style scoped>\n",
       "    .dataframe tbody tr th:only-of-type {\n",
       "        vertical-align: middle;\n",
       "    }\n",
       "\n",
       "    .dataframe tbody tr th {\n",
       "        vertical-align: top;\n",
       "    }\n",
       "\n",
       "    .dataframe thead th {\n",
       "        text-align: right;\n",
       "    }\n",
       "</style>\n",
       "<table border=\"1\" class=\"dataframe\">\n",
       "  <thead>\n",
       "    <tr style=\"text-align: right;\">\n",
       "      <th></th>\n",
       "      <th>Pesos</th>\n",
       "    </tr>\n",
       "  </thead>\n",
       "  <tbody>\n",
       "    <tr>\n",
       "      <th>COCA COLA</th>\n",
       "      <td>0.15</td>\n",
       "    </tr>\n",
       "    <tr>\n",
       "      <th>EXXON MOBIL</th>\n",
       "      <td>0.21</td>\n",
       "    </tr>\n",
       "    <tr>\n",
       "      <th>JOHNSON &amp; JOHNSON</th>\n",
       "      <td>0.18</td>\n",
       "    </tr>\n",
       "    <tr>\n",
       "      <th>JP MORGAN</th>\n",
       "      <td>0.14</td>\n",
       "    </tr>\n",
       "    <tr>\n",
       "      <th>APPLE</th>\n",
       "      <td>0.32</td>\n",
       "    </tr>\n",
       "  </tbody>\n",
       "</table>\n",
       "</div>"
      ],
      "text/plain": [
       "                   Pesos\n",
       "COCA COLA           0.15\n",
       "EXXON MOBIL         0.21\n",
       "JOHNSON & JOHNSON   0.18\n",
       "JP MORGAN           0.14\n",
       "APPLE               0.32"
      ]
     },
     "execution_count": 33,
     "metadata": {},
     "output_type": "execute_result"
    }
   ],
   "source": [
    "weights.index=data_2.columns\n",
    "weights"
   ]
  },
  {
   "cell_type": "markdown",
   "id": "64e3eba3",
   "metadata": {},
   "source": [
    "Creating object of the class"
   ]
  },
  {
   "cell_type": "code",
   "execution_count": 24,
   "id": "9e1c1c38",
   "metadata": {},
   "outputs": [],
   "source": [
    "object_1=var(data=data_2,weights=weights)"
   ]
  },
  {
   "cell_type": "markdown",
   "id": "5f41b41c",
   "metadata": {},
   "source": [
    "Calculating the parametric Value At Risk"
   ]
  },
  {
   "cell_type": "code",
   "execution_count": 25,
   "id": "6bd27107",
   "metadata": {},
   "outputs": [
    {
     "data": {
      "text/plain": [
       "-0.022327111549003655"
      ]
     },
     "execution_count": 25,
     "metadata": {},
     "output_type": "execute_result"
    }
   ],
   "source": [
    "portafolio=object_1.port_returns() # Portfolio returns\n",
    "object_1.parametric(conf_level=0.95) "
   ]
  },
  {
   "cell_type": "markdown",
   "id": "9bc28384",
   "metadata": {},
   "source": [
    "Calculating the historic Value At Risk"
   ]
  },
  {
   "cell_type": "code",
   "execution_count": 26,
   "id": "57bf1d6f",
   "metadata": {},
   "outputs": [
    {
     "data": {
      "text/plain": [
       "-0.020497663846085652"
      ]
     },
     "execution_count": 26,
     "metadata": {},
     "output_type": "execute_result"
    }
   ],
   "source": [
    "object_1.historic(0.95)"
   ]
  },
  {
   "cell_type": "markdown",
   "id": "137dca60",
   "metadata": {},
   "source": [
    "Calculating the Historical Simulation Value At Risk"
   ]
  },
  {
   "cell_type": "code",
   "execution_count": 28,
   "id": "d24b9a01",
   "metadata": {},
   "outputs": [
    {
     "data": {
      "text/plain": [
       "Historical Simulation VaR   -0.029473\n",
       "Name: 0.050000000000000044, dtype: float64"
      ]
     },
     "execution_count": 28,
     "metadata": {},
     "output_type": "execute_result"
    }
   ],
   "source": [
    "object_1.sim_historical(0.95, 500)"
   ]
  },
  {
   "cell_type": "markdown",
   "id": "8191fdbe",
   "metadata": {},
   "source": [
    "Calculating the Monte Carlo Value At Risk"
   ]
  },
  {
   "cell_type": "code",
   "execution_count": 29,
   "id": "07b55f89",
   "metadata": {},
   "outputs": [
    {
     "data": {
      "text/plain": [
       "Monte Carlo VaR   -0.024533\n",
       "Name: 0.050000000000000044, dtype: float64"
      ]
     },
     "execution_count": 29,
     "metadata": {},
     "output_type": "execute_result"
    }
   ],
   "source": [
    "object_1.monte_carlo(0.95, 500) "
   ]
  }
 ],
 "metadata": {
  "kernelspec": {
   "display_name": "Python 3 (ipykernel)",
   "language": "python",
   "name": "python3"
  },
  "language_info": {
   "codemirror_mode": {
    "name": "ipython",
    "version": 3
   },
   "file_extension": ".py",
   "mimetype": "text/x-python",
   "name": "python",
   "nbconvert_exporter": "python",
   "pygments_lexer": "ipython3",
   "version": "3.9.12"
  }
 },
 "nbformat": 4,
 "nbformat_minor": 5
}
